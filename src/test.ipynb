{
 "cells": [
  {
   "cell_type": "code",
   "execution_count": 26,
   "metadata": {},
   "outputs": [
    {
     "name": "stdout",
     "output_type": "stream",
     "text": [
      "Files already downloaded and verified\n"
     ]
    }
   ],
   "source": [
    "import torch\n",
    "from torch.utils.data import Dataset, DataLoader, Subset\n",
    "import numpy as np\n",
    "import torchvision.datasets as datasets\n",
    "import torchvision.transforms.v2 as v2\n",
    "from collections import Counter\n",
    "transform_func = v2.Compose([\n",
    "    v2.ToImage(), \n",
    "    v2.ToDtype(torch.float32, scale=True)\n",
    "])\n",
    "# Instantiate your dataset\n",
    "dataset = datasets.CIFAR10(root='../cifar10_dataset', train=True, download=True, transform=transform_func)\n",
    "\n",
    "# Specify the class you want to reduce\n",
    "target_class = 1\n",
    "\n",
    "# Get indices of all samples of the target class\n",
    "target_class_indices = [i for i, label in enumerate(dataset.targets) if label == target_class]\n",
    "\n",
    "# Determine how many samples to keep\n",
    "num_to_keep = len(target_class_indices) // 2  # For example, keep only half\n",
    "\n",
    "\n",
    "indices_to_keep = np.random.choice(target_class_indices, num_to_keep, replace=False)\n",
    "\n",
    "# Get indices of all other classes\n",
    "non_target_class_indices = [i for i in range(len(dataset)) if dataset.targets[i] != target_class]\n",
    "\n",
    "# Combine the indices to keep\n",
    "final_indices = list(indices_to_keep) + non_target_class_indices\n",
    "\n",
    "# Create a subset of the dataset with the selected indices\n",
    "subset = Subset(dataset, final_indices)\n",
    "\n",
    "# Now you can use the subset with a DataLoader\n",
    "dataloader = DataLoader(subset, batch_size=32, shuffle=True)\n"
   ]
  },
  {
   "cell_type": "code",
   "execution_count": 29,
   "metadata": {},
   "outputs": [
    {
     "data": {
      "text/plain": [
       "2500"
      ]
     },
     "execution_count": 29,
     "metadata": {},
     "output_type": "execute_result"
    }
   ],
   "source": [
    "labels = [dataset.targets[i] for i in final_indices]\n",
    "counter = Counter(labels)\n",
    "counter[1]"
   ]
  },
  {
   "cell_type": "code",
   "execution_count": 15,
   "metadata": {},
   "outputs": [
    {
     "name": "stdout",
     "output_type": "stream",
     "text": [
      "Files already downloaded and verified\n"
     ]
    },
    {
     "data": {
      "text/plain": [
       "{'airplane': 0,\n",
       " 'automobile': 1,\n",
       " 'bird': 2,\n",
       " 'cat': 3,\n",
       " 'deer': 4,\n",
       " 'dog': 5,\n",
       " 'frog': 6,\n",
       " 'horse': 7,\n",
       " 'ship': 8,\n",
       " 'truck': 9}"
      ]
     },
     "execution_count": 15,
     "metadata": {},
     "output_type": "execute_result"
    }
   ],
   "source": [
    "import torch\n",
    "from torch.utils.data import Dataset, DataLoader, Subset\n",
    "import numpy as np\n",
    "import torchvision.datasets as datasets\n",
    "import torchvision.transforms.v2 as v2\n",
    "transform_func = v2.Compose([\n",
    "    v2.ToImage(), \n",
    "    v2.ToDtype(torch.float32, scale=True)\n",
    "])\n",
    "# Instantiate your dataset\n",
    "dataset = datasets.CIFAR10(root='../cifar10_dataset', train=True, download=True, transform=transform_func)\n",
    "dataset.class_to_idx"
   ]
  }
 ],
 "metadata": {
  "kernelspec": {
   "display_name": "emthanhcv",
   "language": "python",
   "name": "python3"
  },
  "language_info": {
   "codemirror_mode": {
    "name": "ipython",
    "version": 3
   },
   "file_extension": ".py",
   "mimetype": "text/x-python",
   "name": "python",
   "nbconvert_exporter": "python",
   "pygments_lexer": "ipython3",
   "version": "3.10.14"
  }
 },
 "nbformat": 4,
 "nbformat_minor": 2
}
